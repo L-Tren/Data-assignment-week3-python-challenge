{
 "cells": [
  {
   "cell_type": "code",
   "execution_count": 1,
   "id": "44c9b5b7-c171-4ff1-94b3-a0784e2d66df",
   "metadata": {},
   "outputs": [],
   "source": [
    "# Import the Pandas library\n",
    "from pathlib import Path\n",
    "import pandas as pd\n",
    "\n",
    "import os\n",
    "import csv \n"
   ]
  },
  {
   "cell_type": "code",
   "execution_count": 2,
   "id": "903328c8-0d3a-472c-aab3-5bf88653eef7",
   "metadata": {},
   "outputs": [],
   "source": [
    "# Create a reference to the CSV file\n",
    "csv_path = os.path.join(\"Resources/budget_data.csv\")\n",
    "\n"
   ]
  },
  {
   "cell_type": "code",
   "execution_count": 3,
   "id": "6e56eb6e-b739-466a-9732-d5134a5763f8",
   "metadata": {},
   "outputs": [
    {
     "data": {
      "text/html": [
       "<div>\n",
       "<style scoped>\n",
       "    .dataframe tbody tr th:only-of-type {\n",
       "        vertical-align: middle;\n",
       "    }\n",
       "\n",
       "    .dataframe tbody tr th {\n",
       "        vertical-align: top;\n",
       "    }\n",
       "\n",
       "    .dataframe thead th {\n",
       "        text-align: right;\n",
       "    }\n",
       "</style>\n",
       "<table border=\"1\" class=\"dataframe\">\n",
       "  <thead>\n",
       "    <tr style=\"text-align: right;\">\n",
       "      <th></th>\n",
       "      <th>Date</th>\n",
       "      <th>Profit/Losses</th>\n",
       "    </tr>\n",
       "  </thead>\n",
       "  <tbody>\n",
       "    <tr>\n",
       "      <th>0</th>\n",
       "      <td>Jan-10</td>\n",
       "      <td>1088983</td>\n",
       "    </tr>\n",
       "    <tr>\n",
       "      <th>1</th>\n",
       "      <td>Feb-10</td>\n",
       "      <td>-354534</td>\n",
       "    </tr>\n",
       "    <tr>\n",
       "      <th>2</th>\n",
       "      <td>Mar-10</td>\n",
       "      <td>276622</td>\n",
       "    </tr>\n",
       "    <tr>\n",
       "      <th>3</th>\n",
       "      <td>Apr-10</td>\n",
       "      <td>-728133</td>\n",
       "    </tr>\n",
       "    <tr>\n",
       "      <th>4</th>\n",
       "      <td>May-10</td>\n",
       "      <td>852993</td>\n",
       "    </tr>\n",
       "  </tbody>\n",
       "</table>\n",
       "</div>"
      ],
      "text/plain": [
       "     Date  Profit/Losses\n",
       "0  Jan-10        1088983\n",
       "1  Feb-10        -354534\n",
       "2  Mar-10         276622\n",
       "3  Apr-10        -728133\n",
       "4  May-10         852993"
      ]
     },
     "execution_count": 3,
     "metadata": {},
     "output_type": "execute_result"
    }
   ],
   "source": [
    "# Read the CSV file into a DataFrame\n",
    "df = pd.read_csv(csv_path)\n",
    "df.head()"
   ]
  },
  {
   "cell_type": "code",
   "execution_count": 4,
   "id": "ba74cf89-c201-4679-94c7-2cb41268353a",
   "metadata": {},
   "outputs": [
    {
     "name": "stdout",
     "output_type": "stream",
     "text": [
      "Total Months:  86\n"
     ]
    }
   ],
   "source": [
    "# Sum number of months\n",
    "num_months = len(df['Date'])\n",
    "print(\"Total Months: \", num_months)"
   ]
  },
  {
   "cell_type": "code",
   "execution_count": 5,
   "id": "68de35f0-bd92-4ea5-afaa-168db7761a47",
   "metadata": {},
   "outputs": [
    {
     "name": "stdout",
     "output_type": "stream",
     "text": [
      "Total Profit: 22564198\n"
     ]
    }
   ],
   "source": [
    "# Sum total Profit/Loss\n",
    "# Calculate the total profit\n",
    "total_profit = df['Profit/Losses'].sum()\n",
    "\n",
    "# Print the total profit\n",
    "print(\"Total Profit:\", total_profit)\n"
   ]
  },
  {
   "cell_type": "code",
   "execution_count": 6,
   "id": "2ca291a1-fd95-4cc0-9342-b8fa1fe81f6c",
   "metadata": {},
   "outputs": [
    {
     "name": "stdout",
     "output_type": "stream",
     "text": [
      "Average Change: -8311.105882352942\n"
     ]
    }
   ],
   "source": [
    "# Calculate the number of months\n",
    "total_months = df.shape[0]\n",
    "\n",
    "# Calculate the change between the first and last figures\n",
    "first_figure = df['Profit/Losses'].iloc[0]\n",
    "last_figure = df['Profit/Losses'].iloc[-1]\n",
    "change = last_figure - first_figure\n",
    "\n",
    "# Calculate the average change\n",
    "average_change = change / (total_months - 1)\n",
    "\n",
    "# Print the total profit, change, and average change\n",
    "\n",
    "print(\"Average Change:\", average_change)"
   ]
  },
  {
   "cell_type": "code",
   "execution_count": 7,
   "id": "9475cdcf-e2d7-48d6-9955-4e3d3bd1fb95",
   "metadata": {},
   "outputs": [
    {
     "name": "stdout",
     "output_type": "stream",
     "text": [
      "Greatest Increase in Profits Aug-16 $1862002\n"
     ]
    }
   ],
   "source": [
    "# Skip the header row\n",
    "df = df.iloc[1:]\n",
    "\n",
    "# Initialize variables\n",
    "max_increase = 0\n",
    "max_increase_month = \"\"\n",
    "\n",
    "# Initialize the previous month's profit/loss\n",
    "previous_profit_loss = 0\n",
    "\n",
    "# Iterate through the dataset\n",
    "for index, row in df.iterrows():\n",
    "    # Get the current month and profit/loss\n",
    "    month = row['Date']\n",
    "    profit_loss = row['Profit/Losses']\n",
    "\n",
    "    # Calculate the difference between the current month's profit/loss and the previous month's profit/loss\n",
    "    increase = profit_loss - previous_profit_loss\n",
    "\n",
    "    # Check if the current increase is greater than the maximum increase\n",
    "    if increase > max_increase:\n",
    "        max_increase = increase\n",
    "        max_increase_month = month\n",
    "\n",
    "    # Update the previous month's profit/loss\n",
    "    previous_profit_loss = profit_loss\n",
    "\n",
    "# Print the month with the greatest increase in profits\n",
    "print(f\"Greatest Increase in Profits {max_increase_month} ${max_increase}\")\n",
    "\n"
   ]
  },
  {
   "cell_type": "code",
   "execution_count": 8,
   "id": "a58d85db-9903-4888-8510-2a7b576b3926",
   "metadata": {},
   "outputs": [
    {
     "name": "stdout",
     "output_type": "stream",
     "text": [
      "Greatest Decrease in Profits Feb-14 $-1825558\n"
     ]
    }
   ],
   "source": [
    "# Skip the header row\n",
    "df = df.iloc[1:]\n",
    "\n",
    "# Initialize variables\n",
    "max_decrease = 0\n",
    "max_decrease_month = \"\"\n",
    "\n",
    "# Initialize the previous month's profit/loss\n",
    "previous_profit_loss = 0\n",
    "\n",
    "# Iterate through the dataset\n",
    "for index, row in df.iterrows():\n",
    "    # Get the current month and profit/loss\n",
    "    month = row['Date']\n",
    "    profit_loss = row['Profit/Losses']\n",
    "\n",
    "    # Calculate the difference between the current month's profit/loss and the previous month's profit/loss\n",
    "    decrease = profit_loss - previous_profit_loss\n",
    "\n",
    "    # Check if the current increase is greater than the maximum increase\n",
    "    if decrease < max_decrease:\n",
    "        max_decrease = decrease\n",
    "        max_decrease_month = month\n",
    "\n",
    "    # Update the previous month's profit/loss\n",
    "    previous_profit_loss = profit_loss\n",
    "\n",
    "# Print the month with the greatest increase in profits\n",
    "print(f\"Greatest Decrease in Profits {max_decrease_month} ${max_decrease}\")"
   ]
  },
  {
   "cell_type": "code",
   "execution_count": null,
   "id": "f65658ce-a6e4-4595-a1b2-868ed4d743a7",
   "metadata": {},
   "outputs": [],
   "source": []
  },
  {
   "cell_type": "code",
   "execution_count": null,
   "id": "f42fbf1f-5d0d-41fb-a841-1105781b144f",
   "metadata": {},
   "outputs": [],
   "source": []
  }
 ],
 "metadata": {
  "kernelspec": {
   "display_name": "Python [conda env:myfirstpythonenv] *",
   "language": "python",
   "name": "conda-env-myfirstpythonenv-py"
  },
  "language_info": {
   "codemirror_mode": {
    "name": "ipython",
    "version": 3
   },
   "file_extension": ".py",
   "mimetype": "text/x-python",
   "name": "python",
   "nbconvert_exporter": "python",
   "pygments_lexer": "ipython3",
   "version": "3.7.13"
  }
 },
 "nbformat": 4,
 "nbformat_minor": 5
}
