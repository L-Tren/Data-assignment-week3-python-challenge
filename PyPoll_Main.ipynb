{
 "cells": [
  {
   "cell_type": "code",
   "execution_count": 1,
   "id": "a2b89088-0a17-4a3e-90c4-39405c51908f",
   "metadata": {},
   "outputs": [],
   "source": [
    "# Import the Pandas library\n",
    "from pathlib import Path\n",
    "import pandas as pd\n",
    "\n",
    "import os\n",
    "import csv \n"
   ]
  },
  {
   "cell_type": "code",
   "execution_count": 2,
   "id": "ef807d03-f471-470f-875c-603d52bc11be",
   "metadata": {},
   "outputs": [],
   "source": [
    "# Create a reference to the CSV file\n",
    "csv_path = os.path.join(\"Resources/election_data.csv\")\n"
   ]
  },
  {
   "cell_type": "code",
   "execution_count": 3,
   "id": "4b906eff-0d0f-4e9e-ae92-dd3f72d40d87",
   "metadata": {},
   "outputs": [
    {
     "data": {
      "text/html": [
       "<div>\n",
       "<style scoped>\n",
       "    .dataframe tbody tr th:only-of-type {\n",
       "        vertical-align: middle;\n",
       "    }\n",
       "\n",
       "    .dataframe tbody tr th {\n",
       "        vertical-align: top;\n",
       "    }\n",
       "\n",
       "    .dataframe thead th {\n",
       "        text-align: right;\n",
       "    }\n",
       "</style>\n",
       "<table border=\"1\" class=\"dataframe\">\n",
       "  <thead>\n",
       "    <tr style=\"text-align: right;\">\n",
       "      <th></th>\n",
       "      <th>Ballot ID</th>\n",
       "      <th>County</th>\n",
       "      <th>Candidate</th>\n",
       "    </tr>\n",
       "  </thead>\n",
       "  <tbody>\n",
       "    <tr>\n",
       "      <th>0</th>\n",
       "      <td>1323913</td>\n",
       "      <td>Jefferson</td>\n",
       "      <td>Charles Casper Stockham</td>\n",
       "    </tr>\n",
       "    <tr>\n",
       "      <th>1</th>\n",
       "      <td>1005842</td>\n",
       "      <td>Jefferson</td>\n",
       "      <td>Charles Casper Stockham</td>\n",
       "    </tr>\n",
       "    <tr>\n",
       "      <th>2</th>\n",
       "      <td>1880345</td>\n",
       "      <td>Jefferson</td>\n",
       "      <td>Charles Casper Stockham</td>\n",
       "    </tr>\n",
       "    <tr>\n",
       "      <th>3</th>\n",
       "      <td>1600337</td>\n",
       "      <td>Jefferson</td>\n",
       "      <td>Charles Casper Stockham</td>\n",
       "    </tr>\n",
       "    <tr>\n",
       "      <th>4</th>\n",
       "      <td>1835994</td>\n",
       "      <td>Jefferson</td>\n",
       "      <td>Charles Casper Stockham</td>\n",
       "    </tr>\n",
       "  </tbody>\n",
       "</table>\n",
       "</div>"
      ],
      "text/plain": [
       "   Ballot ID     County                Candidate\n",
       "0    1323913  Jefferson  Charles Casper Stockham\n",
       "1    1005842  Jefferson  Charles Casper Stockham\n",
       "2    1880345  Jefferson  Charles Casper Stockham\n",
       "3    1600337  Jefferson  Charles Casper Stockham\n",
       "4    1835994  Jefferson  Charles Casper Stockham"
      ]
     },
     "execution_count": 3,
     "metadata": {},
     "output_type": "execute_result"
    }
   ],
   "source": [
    "# Read the CSV file into a DataFrame\n",
    "df = pd.read_csv(csv_path)\n",
    "df.head()"
   ]
  },
  {
   "cell_type": "code",
   "execution_count": 30,
   "id": "2e54826a-5e65-475e-87f4-62e74757789e",
   "metadata": {},
   "outputs": [
    {
     "name": "stdout",
     "output_type": "stream",
     "text": [
      "Election Results\n",
      "-------------------------------------------------------------------------------------\n",
      "Total Votes:  369711\n",
      "-------------------------------------------------------------------------------------\n"
     ]
    }
   ],
   "source": [
    "# Sum number of total votes\n",
    "total_votes = len(df['Ballot ID'])\n",
    "print(\"Election Results\")\n",
    "print(\"-------------------------------------------------------------------------------------\")\n",
    "print(\"Total Votes: \", total_votes)\n",
    "print(\"-------------------------------------------------------------------------------------\")"
   ]
  },
  {
   "cell_type": "code",
   "execution_count": 35,
   "id": "43ae3241-455d-4d7f-b2f3-f70786d7a340",
   "metadata": {},
   "outputs": [
    {
     "name": "stdout",
     "output_type": "stream",
     "text": [
      "                        Percentage of Votes  Total Votes\n",
      "Candidate                                               \n",
      "Diana DeGette                        73.81%       272892\n",
      "Charles Casper Stockham              23.05%        85213\n",
      "Raymon Anthony Doane                  3.14%        11606\n",
      "-------------------------------------------------------------------------------------\n",
      "Winner: Diana DeGette\n",
      "-------------------------------------------------------------------------------------\n"
     ]
    }
   ],
   "source": [
    "# Count each candidates total votes\n",
    "vote_counts = df[\"Candidate\"].value_counts()\n",
    "\n",
    "# Calculate the total votes\n",
    "total_votes = vote_counts.sum()\n",
    "\n",
    "# Calculate the percentage of votes for each candidate\n",
    "vote_percentages = (vote_counts / total_votes) * 100\n",
    "\n",
    "# Create DataFrame with the candidate, percentage of votes, and total votes\n",
    "result_df = pd.DataFrame({\"Percentage of Votes\": vote_percentages, \"Total Votes\": vote_counts})\n",
    "\n",
    "# Set the candidate name as the index\n",
    "result_df.index.name = \"Candidate\"\n",
    "\n",
    "# Format the percentage of votes column \n",
    "result_df[\"Percentage of Votes\"] = result_df[\"Percentage of Votes\"].map(\"{:.2f}%\".format)\n",
    "\n",
    "# Find the candidate with the most votes\n",
    "winner = result_df[\"Total Votes\"].idxmax()\n",
    "\n",
    "# Display the result\n",
    "print(result_df)\n",
    "print(\"-------------------------------------------------------------------------------------\")\n",
    "print(\"Winner: \" + winner)\n",
    "print(\"-------------------------------------------------------------------------------------\")"
   ]
  },
  {
   "cell_type": "code",
   "execution_count": null,
   "id": "85e1f553-c6c0-437b-b9bd-08c84a72572c",
   "metadata": {},
   "outputs": [],
   "source": []
  }
 ],
 "metadata": {
  "kernelspec": {
   "display_name": "Python [conda env:myfirstpythonenv] *",
   "language": "python",
   "name": "conda-env-myfirstpythonenv-py"
  },
  "language_info": {
   "codemirror_mode": {
    "name": "ipython",
    "version": 3
   },
   "file_extension": ".py",
   "mimetype": "text/x-python",
   "name": "python",
   "nbconvert_exporter": "python",
   "pygments_lexer": "ipython3",
   "version": "3.7.13"
  }
 },
 "nbformat": 4,
 "nbformat_minor": 5
}
